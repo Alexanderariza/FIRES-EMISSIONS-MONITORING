{
 "cells": [
  {
   "cell_type": "markdown",
   "metadata": {},
   "source": [
    "<img src='http://www.un-spider.org/sites/default/files/header_1.png' alt='Logo EU Copernicus EUMETSAT' align='left' width='50%'></img>\n",
    "<img src='./Pictures/Saved Pictures/UNicon.png' alt='Logo EU Copernicus EUMETSAT' align='right' width='15%'></img></span>\n",
    "<br>"
   ]
  },
  {
   "cell_type": "markdown",
   "metadata": {},
   "source": [
    "# Ejercicios basicos de procesamiento digital en Jupiter Notebook"
   ]
  },
  {
   "cell_type": "markdown",
   "metadata": {},
   "source": [
    "<hr>"
   ]
  },
  {
   "cell_type": "markdown",
   "metadata": {},
   "source": [
    "Material organizado por el [DR. Alexander Ariza](https://www.researchgate.net/profile/Alexander_Ariza2), con el apoyo de [UNSPIDER](https://http://www.un-spider.org/.int/website/home/index.html) y [Copernicus](https://www.copernicus.eu/en)."
   ]
  },
  {
   "cell_type": "markdown",
   "metadata": {},
   "source": [
    "# Introducción"
   ]
  },
  {
   "cell_type": "markdown",
   "metadata": {},
   "source": [
    "<div class=\"alert alert-block alert-success\" align=\"center\">\n",
    "<b><i>\"Project Jupyter es una plataforma web que permite desarrollar software de código abierto, estándares abiertos y servicios para computación interactiva en docenas de lenguajes de programación.\"</i></b>\n",
    "</div>"
   ]
  },
  {
   "cell_type": "markdown",
   "metadata": {},
   "source": [
    "\n",
    "<center><img src='/view/Pictures/cc.JPG>"
   ]
  },
  {
   "cell_type": "markdown",
   "metadata": {},
   "source": [
    "<img src='./Pictures/from.png' alt='Logo EU Copernicus EUMETSAT' align='center' width='100%'></img>"
   ]
  },
  {
   "cell_type": "code",
   "execution_count": null,
   "metadata": {},
   "outputs": [],
   "source": []
  }
 ],
 "metadata": {
  "kernelspec": {
   "display_name": "Python 3",
   "language": "python",
   "name": "python3"
  },
  "language_info": {
   "codemirror_mode": {
    "name": "ipython",
    "version": 3
   },
   "file_extension": ".py",
   "mimetype": "text/x-python",
   "name": "python",
   "nbconvert_exporter": "python",
   "pygments_lexer": "ipython3",
   "version": "3.7.6"
  }
 },
 "nbformat": 4,
 "nbformat_minor": 4
}
